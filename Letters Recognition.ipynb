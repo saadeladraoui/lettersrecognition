{
 "cells": [
  {
   "cell_type": "code",
   "execution_count": 270,
   "metadata": {
    "collapsed": true
   },
   "outputs": [],
   "source": [
    "import numpy as np\n",
    "import matplotlib.image as mpimg\n",
    "import matplotlib.pyplot as plt\n",
    "%matplotlib inline"
   ]
  },
  {
   "cell_type": "code",
   "execution_count": 271,
   "metadata": {
    "collapsed": true
   },
   "outputs": [],
   "source": [
    "## Fonction qui convertit une images au format .png de resolution 30x30 et \n",
    "## retourne un tableau de 900 cases de tous les pixels de cette image\n",
    "## l' extraction des pixels se fait avec matplotlib.image\n",
    "## Si un pixel est blanc, le contenu de la case du tableau sera 1\n",
    "## Si un pixel est noir, le contenu de la case du tableau sera 0\n",
    "\n",
    "def load_img(name):\n",
    "    img=mpimg.imread(name+'.png')\n",
    "    t = np.zeros(900,dtype='f')\n",
    "    k=0\n",
    "    for i in range(30):\n",
    "        for j in range(30):\n",
    "            t[k]=img[i][j][0]\n",
    "            k=k+1\n",
    "    return t"
   ]
  },
  {
   "cell_type": "code",
   "execution_count": 272,
   "metadata": {
    "collapsed": false
   },
   "outputs": [],
   "source": [
    "## Fonction pour convertir 9 images de b et 9 images de g \n",
    "## et les mettre sur un tableau \n",
    "\n",
    "X=[]\n",
    "\n",
    "def load_all_img():\n",
    "    global X\n",
    "    m=0\n",
    "    for i in range(1,10):\n",
    "        X.append(load_img('b'+str(i)))\n",
    "        m=m+1\n",
    "    for j in range(1,10):\n",
    "        X.append(load_img('g'+str(j)))\n",
    "        m=m+1\n",
    "    return"
   ]
  },
  {
   "cell_type": "code",
   "execution_count": 274,
   "metadata": {
    "collapsed": false
   },
   "outputs": [
    {
     "data": {
      "text/plain": [
       "<matplotlib.image.AxesImage at 0x320bec50>"
      ]
     },
     "execution_count": 274,
     "metadata": {},
     "output_type": "execute_result"
    },
    {
     "data": {
      "image/png": "[encoded data removed]",
      "text/plain": [
       "<matplotlib.figure.Figure at 0x32050c18>"
      ]
     },
     "metadata": {},
     "output_type": "display_data"
    }
   ],
   "source": [
    "## Exemple de lettre b dessiné avec Paint au format .png\n",
    "\n",
    "b1=mpimg.imread('b1'+'.png')\n",
    "plt.imshow(b1)"
   ]
  },
  {
   "cell_type": "code",
   "execution_count": 275,
   "metadata": {
    "collapsed": false
   },
   "outputs": [
    {
     "data": {
      "text/plain": [
       "<matplotlib.image.AxesImage at 0x22c63240>"
      ]
     },
     "execution_count": 275,
     "metadata": {},
     "output_type": "execute_result"
    },
    {
     "data": {
      "image/png": "[encoded data removed]",
      "text/plain": [
       "<matplotlib.figure.Figure at 0x320994a8>"
      ]
     },
     "metadata": {},
     "output_type": "display_data"
    }
   ],
   "source": [
    "## Exemple de lettre g dessiné avec Paint au format .png\n",
    "\n",
    "g1=mpimg.imread('g1'+'.png')\n",
    "plt.imshow(g1)"
   ]
  },
  {
   "cell_type": "code",
   "execution_count": 243,
   "metadata": {
    "collapsed": false
   },
   "outputs": [],
   "source": [
    "load_all_img()"
   ]
  },
  {
   "cell_type": "code",
   "execution_count": 244,
   "metadata": {
    "collapsed": false
   },
   "outputs": [],
   "source": [
    "## Training Set (Matrice tab_X)\n",
    "\n",
    "## Mettre tous les tableaux des lettre dans une matrice \n",
    "## Chaque ligne de la matrice constitue le contenu des 900 pixels d'une image \n",
    "\n",
    "tab_X=np.array([X[0],X[1],X[2],X[3],X[4],X[5],X[6],X[7],X[8],X[9],X[10],X[11],X[12],X[13],X[14],X[15],\n",
    "                X[16],X[17]])"
   ]
  },
  {
   "cell_type": "code",
   "execution_count": 245,
   "metadata": {
    "collapsed": false
   },
   "outputs": [],
   "source": [
    "## Chaque case dans le tableau suivant refére à la lettre de chaque ligne du tableau du Training Set\n",
    "## Si la lettre est b, on lui refére par un 1\n",
    "## Si la lettre est g, on lui refére par un 0\n",
    "\n",
    "tab_y=np.array([0,0,0,0,0,0,0,0,0,1,1,1,1,1,1,1,1,1])"
   ]
  },
  {
   "cell_type": "code",
   "execution_count": 246,
   "metadata": {
    "collapsed": false
   },
   "outputs": [
    {
     "data": {
      "text/plain": [
       "(18L, 900L)"
      ]
     },
     "execution_count": 246,
     "metadata": {},
     "output_type": "execute_result"
    }
   ],
   "source": [
    "## Dimension de la matrice tab_X \n",
    "\n",
    "tab_X.shape"
   ]
  },
  {
   "cell_type": "code",
   "execution_count": 247,
   "metadata": {
    "collapsed": false
   },
   "outputs": [
    {
     "data": {
      "text/plain": [
       "(18L,)"
      ]
     },
     "execution_count": 247,
     "metadata": {},
     "output_type": "execute_result"
    }
   ],
   "source": [
    "## Dimension du tableau tab_y\n",
    "\n",
    "tab_y.shape"
   ]
  },
  {
   "cell_type": "code",
   "execution_count": 75,
   "metadata": {
    "collapsed": false
   },
   "outputs": [],
   "source": [
    "## Implémentation du réseau de neurones en utilisant Lasagne et nolearn\n",
    "\n",
    "import lasagne\n",
    "from lasagne import layers\n",
    "from lasagne.updates import nesterov_momentum\n",
    "from nolearn.lasagne import NeuralNet"
   ]
  },
  {
   "cell_type": "code",
   "execution_count": 250,
   "metadata": {
    "collapsed": true
   },
   "outputs": [],
   "source": [
    "## RESEAU DE NEURONES\n",
    "\n",
    "net = NeuralNet(\n",
    "        layers=[('input', layers.InputLayer),\n",
    "                ('hidden', layers.DenseLayer),\n",
    "                ('output', layers.DenseLayer),\n",
    "                ],\n",
    "        # Parametres des couches:\n",
    "        input_shape=(None, 30*30),\n",
    "        hidden_num_units=100,  # Nombre de neurones dans la hidden layer\n",
    "        output_nonlinearity=lasagne.nonlinearities.softmax,\n",
    "        output_num_units=2,  # Nombre d'output, ici nous avons 2 (b et h)\n",
    "\n",
    "        #optimization method:\n",
    "        #update=nesterov_momentum,\n",
    "        update_learning_rate=0.01,\n",
    "        update_momentum=0.9,\n",
    "         regression=False, \n",
    "        max_epochs=20,\n",
    "        verbose=1,\n",
    "        )"
   ]
  },
  {
   "cell_type": "code",
   "execution_count": 251,
   "metadata": {
    "collapsed": false
   },
   "outputs": [
    {
     "name": "stdout",
     "output_type": "stream",
     "text": [
      "  input             \t(None, 900)         \tproduces     900 outputs\n",
      "  hidden            \t(None, 100)         \tproduces     100 outputs\n",
      "  output            \t(None, 2)           \tproduces       2 outputs\n",
      "  epoch    train loss    valid loss    train/val    valid acc  dur\n",
      "-------  ------------  ------------  -----------  -----------  -----\n",
      "      1       \u001b[94m1.01393\u001b[0m       \u001b[32m3.86001\u001b[0m      0.26268      0.50000  2.77s\n",
      "      2       3.66651       \u001b[32m0.64230\u001b[0m      5.70844      0.50000  2.64s\n",
      "      3       \u001b[94m0.49213\u001b[0m       \u001b[32m0.57120\u001b[0m      0.86156      1.00000  2.98s\n",
      "      4       \u001b[94m0.39599\u001b[0m       \u001b[32m0.52724\u001b[0m      0.75105      1.00000  2.74s\n",
      "      5       \u001b[94m0.32241\u001b[0m       \u001b[32m0.49314\u001b[0m      0.65379      1.00000  2.88s\n",
      "      6       \u001b[94m0.28568\u001b[0m       \u001b[32m0.45209\u001b[0m      0.63191      1.00000  2.73s\n",
      "      7       \u001b[94m0.23716\u001b[0m       \u001b[32m0.40549\u001b[0m      0.58488      1.00000  2.85s\n",
      "      8       \u001b[94m0.19915\u001b[0m       \u001b[32m0.37289\u001b[0m      0.53406      1.00000  2.67s\n",
      "      9       \u001b[94m0.16237\u001b[0m       \u001b[32m0.33610\u001b[0m      0.48312      1.00000  2.84s\n",
      "     10       \u001b[94m0.13484\u001b[0m       \u001b[32m0.30454\u001b[0m      0.44278      1.00000  2.66s\n",
      "     11       \u001b[94m0.11160\u001b[0m       \u001b[32m0.27493\u001b[0m      0.40590      1.00000  2.84s\n",
      "     12       \u001b[94m0.09219\u001b[0m       \u001b[32m0.24838\u001b[0m      0.37116      1.00000  2.69s\n",
      "     13       \u001b[94m0.07612\u001b[0m       \u001b[32m0.22472\u001b[0m      0.33874      1.00000  2.79s\n",
      "     14       \u001b[94m0.06294\u001b[0m       \u001b[32m0.20356\u001b[0m      0.30919      1.00000  2.71s\n",
      "     15       \u001b[94m0.05219\u001b[0m       \u001b[32m0.18472\u001b[0m      0.28252      1.00000  2.76s\n",
      "     16       \u001b[94m0.04344\u001b[0m       \u001b[32m0.16798\u001b[0m      0.25859      1.00000  2.81s\n",
      "     17       \u001b[94m0.03633\u001b[0m       \u001b[32m0.15312\u001b[0m      0.23724      1.00000  2.66s\n",
      "     18       \u001b[94m0.03054\u001b[0m       \u001b[32m0.14003\u001b[0m      0.21810      1.00000  3.04s\n",
      "     19       \u001b[94m0.02585\u001b[0m       \u001b[32m0.12852\u001b[0m      0.20117      1.00000  2.77s\n",
      "     20       \u001b[94m0.02203\u001b[0m       \u001b[32m0.11844\u001b[0m      0.18597      1.00000  2.88s\n",
      "     21       \u001b[94m0.01890\u001b[0m       \u001b[32m0.10955\u001b[0m      0.17251      1.00000  2.69s\n",
      "     22       \u001b[94m0.01633\u001b[0m       \u001b[32m0.10170\u001b[0m      0.16063      1.00000  2.81s\n",
      "     23       \u001b[94m0.01422\u001b[0m       \u001b[32m0.09478\u001b[0m      0.15005      1.00000  2.66s\n",
      "     24       \u001b[94m0.01247\u001b[0m       \u001b[32m0.08867\u001b[0m      0.14066      1.00000  2.83s\n",
      "     25       \u001b[94m0.01102\u001b[0m       \u001b[32m0.08327\u001b[0m      0.13230      1.00000  2.64s\n",
      "     26       \u001b[94m0.00980\u001b[0m       \u001b[32m0.07849\u001b[0m      0.12486      1.00000  2.80s\n",
      "     27       \u001b[94m0.00878\u001b[0m       \u001b[32m0.07425\u001b[0m      0.11822      1.00000  2.63s\n",
      "     28       \u001b[94m0.00791\u001b[0m       \u001b[32m0.07049\u001b[0m      0.11228      1.00000  2.83s\n",
      "     29       \u001b[94m0.00718\u001b[0m       \u001b[32m0.06714\u001b[0m      0.10696      1.00000  2.65s\n",
      "     30       \u001b[94m0.00655\u001b[0m       \u001b[32m0.06415\u001b[0m      0.10218      1.00000  2.78s\n"
     ]
    },
    {
     "data": {
      "text/plain": [
       "NeuralNet(X_tensor_type=<function matrix at 0x000000000A04D358>,\n",
       "     batch_iterator_test=<nolearn.lasagne.base.BatchIterator object at 0x000000001A8E45F8>,\n",
       "     batch_iterator_train=<nolearn.lasagne.base.BatchIterator object at 0x000000001A8B7080>,\n",
       "     custom_score=None, eval_size=0.2, hidden_num_units=100,\n",
       "     input_shape=(None, 900),\n",
       "     layers=[('input', <class 'lasagne.layers.input.InputLayer'>), ('hidden', <class 'lasagne.layers.dense.DenseLayer'>), ('output', <class 'lasagne.layers.dense.DenseLayer'>)],\n",
       "     loss=None, max_epochs=30, more_params={},\n",
       "     objective=<class 'lasagne.objectives.Objective'>,\n",
       "     objective_loss_function=<function categorical_crossentropy at 0x000000001A066B38>,\n",
       "     on_epoch_finished=[<nolearn.lasagne.util.PrintLog instance at 0x00000000310420C8>],\n",
       "     on_training_finished=[],\n",
       "     output_nonlinearity=<function softmax at 0x000000001A4E0978>,\n",
       "     output_num_units=2, regression=False,\n",
       "     update=<function nesterov_momentum at 0x000000001A681518>,\n",
       "     update_learning_rate=0.01, update_momentum=0.9,\n",
       "     use_label_encoder=False, verbose=1,\n",
       "     y_tensor_type=TensorType(int32, vector))"
      ]
     },
     "execution_count": 251,
     "metadata": {},
     "output_type": "execute_result"
    }
   ],
   "source": [
    "## Training the neural network\n",
    "\n",
    "net.fit(tab_X,tab_y)"
   ]
  },
  {
   "cell_type": "code",
   "execution_count": 277,
   "metadata": {
    "collapsed": true
   },
   "outputs": [],
   "source": [
    "## TEST \n",
    "## On charge deux images b10.png et g10.png et on essaie de les predire\n",
    "\n",
    "b11=load_img('b10')\n",
    "g11=load_img('g10')"
   ]
  },
  {
   "cell_type": "code",
   "execution_count": 278,
   "metadata": {
    "collapsed": false
   },
   "outputs": [
    {
     "data": {
      "text/plain": [
       "<matplotlib.image.AxesImage at 0x22dd5e10>"
      ]
     },
     "execution_count": 278,
     "metadata": {},
     "output_type": "execute_result"
    },
    {
     "data": {
      "image/png": "[encoded data removed]",
      "text/plain": [
       "<matplotlib.figure.Figure at 0x22c720b8>"
      ]
     },
     "metadata": {},
     "output_type": "display_data"
    }
   ],
   "source": [
    "## Affichage de la lettre b qu'on veut prédire\n",
    "\n",
    "b_test=mpimg.imread('b10'+'.png')\n",
    "plt.imshow(b_test)"
   ]
  },
  {
   "cell_type": "code",
   "execution_count": 279,
   "metadata": {
    "collapsed": false
   },
   "outputs": [
    {
     "data": {
      "text/plain": [
       "<matplotlib.image.AxesImage at 0x22e43f60>"
      ]
     },
     "execution_count": 279,
     "metadata": {},
     "output_type": "execute_result"
    },
    {
     "data": {
      "image/png": "[encoded data removed]",
      "text/plain": [
       "<matplotlib.figure.Figure at 0x22ece908>"
      ]
     },
     "metadata": {},
     "output_type": "display_data"
    }
   ],
   "source": [
    "## Affichage de la lettre g qu'on veut prédire\n",
    "\n",
    "g_test=mpimg.imread('g10'+'.png')\n",
    "plt.imshow(g_test)"
   ]
  },
  {
   "cell_type": "code",
   "execution_count": 291,
   "metadata": {
    "collapsed": true
   },
   "outputs": [],
   "source": [
    "Xt, yt =np.array([b11,g11]) ,np.array([0,1]) ## On associe à chaque lettre un label 0 ou 1\n",
    "b_test = Xt[0].reshape(Xt[0].shape[0],1)  ## Reshape du tableau pour que la fonction predict puisse le lire\n",
    "g_test = Xt[1].reshape(Xt[1].shape[0],1)"
   ]
  },
  {
   "cell_type": "code",
   "execution_count": 287,
   "metadata": {
    "collapsed": false
   },
   "outputs": [],
   "source": [
    "## Fonction de prediction\n",
    "## Le label de la lettre b est 0\n",
    "## le label de la lettre g est 1\n",
    "## On configure le label d'abord referant à chaque lettre\n",
    "## On prédit avec le réseau de neurone avec la fonction net.predict()\n",
    "\n",
    "def predict (lettre, label):\n",
    "    if label==0:\n",
    "        label = \"lettre b\"\n",
    "    if label==1:\n",
    "        label = \"lettre g\"\n",
    "    if net.predict(lettre.T)[0]==0:  ## Si il prédit b\n",
    "        predict =\"lettre b\"\n",
    "    if net.predict(lettre.T)[0]==1:  ## Si il prédit g\n",
    "        predict =\"lettre g\"\n",
    "    \n",
    "    print(\"Label: \" + label)\n",
    "    print(\"Predicted: \" + predict)"
   ]
  },
  {
   "cell_type": "code",
   "execution_count": 288,
   "metadata": {
    "collapsed": false
   },
   "outputs": [
    {
     "name": "stdout",
     "output_type": "stream",
     "text": [
      "Label: lettre b\n",
      "Predicted: lettre b\n"
     ]
    }
   ],
   "source": [
    "## Resultat de la prédiction de b\n",
    "\n",
    "predict(b_test,yt[0])"
   ]
  },
  {
   "cell_type": "code",
   "execution_count": 290,
   "metadata": {
    "collapsed": false
   },
   "outputs": [
    {
     "name": "stdout",
     "output_type": "stream",
     "text": [
      "Label: lettre g\n",
      "Predicted: lettre g\n"
     ]
    }
   ],
   "source": [
    "## Resultat de la prédiction de g\n",
    "\n",
    "predict(g_test,yt[1])"
   ]
  },
  {
   "cell_type": "code",
   "execution_count": null,
   "metadata": {
    "collapsed": true
   },
   "outputs": [],
   "source": []
  }
 ],
 "metadata": {
  "kernelspec": {
   "display_name": "Python 2",
   "language": "python",
   "name": "python2"
  },
  "language_info": {
   "codemirror_mode": {
    "name": "ipython",
    "version": 2
   },
   "file_extension": ".py",
   "mimetype": "text/x-python",
   "name": "python",
   "nbconvert_exporter": "python",
   "pygments_lexer": "ipython2",
   "version": "2.7.11"
  }
 },
 "nbformat": 4,
 "nbformat_minor": 0
}
